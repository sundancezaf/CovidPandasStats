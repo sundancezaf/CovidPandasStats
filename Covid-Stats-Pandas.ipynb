{
 "cells": [
  {
   "cell_type": "code",
   "execution_count": 364,
   "metadata": {},
   "outputs": [],
   "source": [
    "import pandas as pd"
   ]
  },
  {
   "cell_type": "code",
   "execution_count": 365,
   "metadata": {},
   "outputs": [],
   "source": [
    "from datetime import *"
   ]
  },
  {
   "cell_type": "code",
   "execution_count": 366,
   "metadata": {},
   "outputs": [],
   "source": [
    "df = pd.read_csv('us-states.csv')"
   ]
  },
  {
   "cell_type": "code",
   "execution_count": 367,
   "metadata": {},
   "outputs": [],
   "source": [
    "states = ['Alabama', 'Alaska', 'Arizona', 'Arkansas', 'California', 'Colorado', 'Connecticut', 'Delaware', 'District of Columbia', 'Florida', 'Georgia', 'Hawaii', 'Idaho', 'Illinois', 'Indiana', 'Iowa', 'Kansas', 'Kentucky', 'Louisiana', 'Maine', 'Maryland', 'Massachusetts', 'Michigan', 'Minnesota', 'Mississippi', 'Missouri', 'Montana', 'Nebraska', 'Nevada', 'New Hampshire', 'New Jersey', 'New Mexico', 'New York', 'North Carolina', 'North Dakota', 'Ohio', 'Oklahoma', 'Oregon', 'Pennsylvania', 'Rhode Island', 'South Carolina', 'South Dakota', 'Tennessee', 'Texas', 'Utah', 'Vermont', 'Virginia', 'Washington', 'West Virginia', 'Wisconsin', 'Wyoming']"
   ]
  },
  {
   "cell_type": "code",
   "execution_count": 368,
   "metadata": {},
   "outputs": [],
   "source": [
    "def changeDate(aDate):\n",
    "    aDate = datetime.strptime(aDate, '%Y-%m-%d')\n",
    "    finalDate = aDate.date()\n",
    "    return finalDate"
   ]
  },
  {
   "cell_type": "code",
   "execution_count": 369,
   "metadata": {
    "scrolled": true
   },
   "outputs": [],
   "source": [
    "casesList = {key: [] for key in states}\n",
    "indexList = {key: [] for key in states}\n",
    "deathsList = {key: [] for key in states}"
   ]
  },
  {
   "cell_type": "code",
   "execution_count": 370,
   "metadata": {
    "scrolled": false
   },
   "outputs": [],
   "source": [
    "for ind, row in df.iterrows():\n",
    "    for state in states:\n",
    "        if row[1] == state:\n",
    "            indexList[state].append(row[0])\n",
    "            casesList[state].append(row[3])\n",
    "            deathsList[state].append(row[4])"
   ]
  },
  {
   "cell_type": "code",
   "execution_count": 371,
   "metadata": {
    "scrolled": false
   },
   "outputs": [
    {
     "name": "stdout",
     "output_type": "stream",
     "text": [
      "[6L, 12L, 23L, 29L, 39L, 51L, 78L, 106L, 131L, 157L, 196L, 242L, 386L, 538L, 639L, 720L, 830L, 947L, 999L, 1106L, 1270L, 1535L, 1632L, 1840L, 2005L, 2197L, 2498L, 2838L, 3008L, 3262L, 3583L, 3805L, 3953L, 4241L, 4404L, 4572L, 4723L, 4903L, 5078L, 5327L, 5610L, 5832L, 6026L, 6213L, 6421L, 6539L, 6750L, 6925L, 7068L, 7294L, 7611L, 7888L, 8112L, 8437L, 8691L, 9046L, 9385L, 9668L, 9889L, 10164L, 10464L, 10700L, 11101L, 11373L, 11674L, 11771L, 12086L, 12376L]\n"
     ]
    }
   ],
   "source": [
    "print(casesList['Alabama'])"
   ]
  },
  {
   "cell_type": "code",
   "execution_count": 372,
   "metadata": {},
   "outputs": [],
   "source": [
    "dictList = {key:{} for key in states}"
   ]
  },
  {
   "cell_type": "code",
   "execution_count": 373,
   "metadata": {
    "scrolled": true
   },
   "outputs": [
    {
     "name": "stdout",
     "output_type": "stream",
     "text": [
      "{'Mississippi': {}, 'Oklahoma': {}, 'Delaware': {}, 'Minnesota': {}, 'Illinois': {}, 'Arkansas': {}, 'New Mexico': {}, 'Indiana': {}, 'Maryland': {}, 'Louisiana': {}, 'Idaho': {}, 'Wyoming': {}, 'Tennessee': {}, 'Arizona': {}, 'Iowa': {}, 'Michigan': {}, 'Kansas': {}, 'Utah': {}, 'Virginia': {}, 'Oregon': {}, 'Connecticut': {}, 'Montana': {}, 'California': {}, 'Massachusetts': {}, 'West Virginia': {}, 'South Carolina': {}, 'New Hampshire': {}, 'Wisconsin': {}, 'Vermont': {}, 'Georgia': {}, 'North Dakota': {}, 'Pennsylvania': {}, 'Florida': {}, 'Alaska': {}, 'Kentucky': {}, 'Hawaii': {}, 'Nebraska': {}, 'Missouri': {}, 'Ohio': {}, 'Alabama': {}, 'New York': {}, 'South Dakota': {}, 'Colorado': {}, 'New Jersey': {}, 'Washington': {}, 'North Carolina': {}, 'District of Columbia': {}, 'Texas': {}, 'Nevada': {}, 'Maine': {}, 'Rhode Island': {}}\n"
     ]
    }
   ],
   "source": [
    "print(dictList)"
   ]
  },
  {
   "cell_type": "code",
   "execution_count": 374,
   "metadata": {},
   "outputs": [],
   "source": [
    "for state in states:\n",
    "    dictList[state].update({'Date':indexList[state]})\n",
    "    dictList[state].update({'Cases':casesList[state]})\n",
    "    dictList[state].update({'Deaths':deathsList[state]})"
   ]
  },
  {
   "cell_type": "code",
   "execution_count": 375,
   "metadata": {},
   "outputs": [],
   "source": [
    "for name in states:\n",
    "    dict[name]=pd.DataFrame(dictList[name])"
   ]
  },
  {
   "cell_type": "code",
   "execution_count": 376,
   "metadata": {},
   "outputs": [],
   "source": [
    "def getFirstEvent(name):\n",
    "    result= dict[name].loc[0,'Date']\n",
    "    return result"
   ]
  },
  {
   "cell_type": "code",
   "execution_count": 377,
   "metadata": {
    "scrolled": true
   },
   "outputs": [
    {
     "name": "stdout",
     "output_type": "stream",
     "text": [
      "2020-03-08\n"
     ]
    }
   ],
   "source": [
    "print(getFirstEvent(\"Iowa\"))"
   ]
  },
  {
   "cell_type": "code",
   "execution_count": 378,
   "metadata": {},
   "outputs": [],
   "source": [
    "def caseToDeath(state):\n",
    "    minList = []\n",
    "    for ind, row in dict[state].iterrows():\n",
    "        if row[2] > 0:\n",
    "            minList.append(row[1])\n",
    "    result = minList[0]\n",
    "    return result"
   ]
  },
  {
   "cell_type": "code",
   "execution_count": 379,
   "metadata": {},
   "outputs": [
    {
     "name": "stdout",
     "output_type": "stream",
     "text": [
      "2020-03-24\n"
     ]
    }
   ],
   "source": [
    "print(caseToDeath(\"Iowa\"))"
   ]
  },
  {
   "cell_type": "code",
   "execution_count": 380,
   "metadata": {},
   "outputs": [],
   "source": [
    "def maxDaysCaseDeath():\n",
    "    maximumValue = 0\n",
    "    maxList = []\n",
    "    for name in states:\n",
    "        daysBetween = caseToDeath(name)\n",
    "        if daysBetween > maximumValue:\n",
    "            maximumValue = daysBetween\n",
    "            finalStat = str(name) + ': '+ str(maximumValue) + \" days\"\n",
    "\n",
    "    return finalStat"
   ]
  },
  {
   "cell_type": "code",
   "execution_count": 381,
   "metadata": {},
   "outputs": [],
   "source": [
    "def eventsOnDate(state, date):\n",
    "    dict[state].set_index('Date',inplace=True)\n",
    "    result = dict[state].loc[date]\n",
    "    return result"
   ]
  },
  {
   "cell_type": "code",
   "execution_count": 382,
   "metadata": {},
   "outputs": [],
   "source": [
    "def casesBetweenDates(firstDate, secondDate,state):\n",
    "    pass\n"
   ]
  },
  {
   "cell_type": "code",
   "execution_count": 383,
   "metadata": {},
   "outputs": [
    {
     "data": {
      "text/plain": [
       "'Wyoming: 2020-04-13 days'"
      ]
     },
     "execution_count": 383,
     "metadata": {},
     "output_type": "execute_result"
    }
   ],
   "source": [
    "maxDaysCaseDeath()"
   ]
  },
  {
   "cell_type": "code",
   "execution_count": 384,
   "metadata": {},
   "outputs": [
    {
     "name": "stdout",
     "output_type": "stream",
     "text": [
      "Wyoming: 2020-04-13 days\n"
     ]
    }
   ],
   "source": [
    "print(maxDaysCaseDeath())"
   ]
  },
  {
   "cell_type": "code",
   "execution_count": 385,
   "metadata": {},
   "outputs": [
    {
     "name": "stdout",
     "output_type": "stream",
     "text": [
      "2020-02-29\n"
     ]
    }
   ],
   "source": [
    "print(caseToDeath('Washington'))"
   ]
  },
  {
   "cell_type": "code",
   "execution_count": null,
   "metadata": {},
   "outputs": [],
   "source": []
  },
  {
   "cell_type": "code",
   "execution_count": null,
   "metadata": {},
   "outputs": [],
   "source": []
  }
 ],
 "metadata": {
  "kernelspec": {
   "display_name": "Python 2",
   "language": "python",
   "name": "python2"
  },
  "language_info": {
   "codemirror_mode": {
    "name": "ipython",
    "version": 2
   },
   "file_extension": ".py",
   "mimetype": "text/x-python",
   "name": "python",
   "nbconvert_exporter": "python",
   "pygments_lexer": "ipython2",
   "version": "2.7.16"
  }
 },
 "nbformat": 4,
 "nbformat_minor": 4
}
