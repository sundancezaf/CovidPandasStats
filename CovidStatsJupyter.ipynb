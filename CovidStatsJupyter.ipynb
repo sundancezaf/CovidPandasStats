{
 "cells": [
  {
   "cell_type": "code",
   "execution_count": 137,
   "metadata": {},
   "outputs": [],
   "source": [
    "import pandas as pd\n",
    "import matplotlib.pyplot as plt\n",
    "from datetime import *"
   ]
  },
  {
   "cell_type": "code",
   "execution_count": 138,
   "metadata": {},
   "outputs": [],
   "source": [
    "%matplotlib inline"
   ]
  },
  {
   "cell_type": "code",
   "execution_count": 139,
   "metadata": {},
   "outputs": [],
   "source": [
    "# These options are set so that dataframes can display all the rows\n",
    "pd.set_option('display.max_rows', 500)\n",
    "pd.set_option('display.max_columns', 500)\n",
    "pd.set_option('display.width', 1000)"
   ]
  },
  {
   "cell_type": "code",
   "execution_count": 140,
   "metadata": {},
   "outputs": [],
   "source": [
    "# This is the master csv which contains the total cases for each day, sorted by state\n",
    "df = pd.read_csv('us-states.csv')"
   ]
  },
  {
   "cell_type": "code",
   "execution_count": 141,
   "metadata": {},
   "outputs": [],
   "source": [
    "# This is the csv that contains the population of the states\n",
    "popDF = pd.read_csv('population.csv',index_col='state' )"
   ]
  },
  {
   "cell_type": "code",
   "execution_count": 142,
   "metadata": {},
   "outputs": [],
   "source": [
    "states = ['Alabama', 'Alaska', 'Arizona', 'Arkansas', 'California', 'Colorado', 'Connecticut', 'Delaware', 'District of Columbia', 'Florida', 'Georgia', 'Hawaii', 'Idaho', 'Illinois', 'Indiana', 'Iowa', 'Kansas', 'Kentucky', 'Louisiana', 'Maine', 'Maryland', 'Massachusetts', 'Michigan', 'Minnesota', 'Mississippi', 'Missouri', 'Montana', 'Nebraska', 'Nevada', 'New Hampshire', 'New Jersey', 'New Mexico', 'New York', 'North Carolina', 'North Dakota', 'Ohio', 'Oklahoma', 'Oregon', 'Pennsylvania', 'Rhode Island', 'South Carolina', 'South Dakota', 'Tennessee', 'Texas', 'Utah', 'Vermont', 'Virginia', 'Washington', 'West Virginia', 'Wisconsin', 'Wyoming']"
   ]
  },
  {
   "cell_type": "code",
   "execution_count": 143,
   "metadata": {},
   "outputs": [],
   "source": [
    "# This creates separate dictionaries \n",
    "dictList = {key:{} for key in states}\n",
    "# This creates lists for the states \n",
    "casesList = {key: [] for key in states}\n",
    "# This DataFrame will contain the date, total cases, and changes in cases from day to day for the individual states\n",
    "stateDataFrame = {key:{} for key in states}"
   ]
  },
  {
   "cell_type": "code",
   "execution_count": 144,
   "metadata": {},
   "outputs": [],
   "source": [
    "# This DataFrame gets all the results for that particular state and adds it to its own dictionary\n",
    "for state in states:\n",
    "    stateFilter = (df['state']==state)\n",
    "    dictList[state]= df[stateFilter]\n",
    "    dictList[state].reset_index(inplace=True)"
   ]
  },
  {
   "cell_type": "code",
   "execution_count": 145,
   "metadata": {},
   "outputs": [],
   "source": [
    "# This fuinction changes the date to a python date\n",
    "def changeDate(aDate):\n",
    "    aDate = datetime.strptime(aDate, '%Y-%m-%d')\n",
    "    finalDate = aDate.date()\n",
    "    return finalDate"
   ]
  },
  {
   "cell_type": "code",
   "execution_count": 146,
   "metadata": {},
   "outputs": [],
   "source": [
    "# This function gets the date of the first case\n",
    "def getFirstEvent(name):\n",
    "    result = dictList[name].loc[0, 'date']\n",
    "    return result"
   ]
  },
  {
   "cell_type": "code",
   "execution_count": 147,
   "metadata": {},
   "outputs": [],
   "source": [
    "# This function returns the number of days between the first case and the first death\n",
    "def caseToDeath(state):\n",
    "    minList = []\n",
    "    # We want to find the date of the first death so it has to be greater than 0, if we append it to a list,\n",
    "    # then we can get the first value and that will be the date of the first death\n",
    "    for ind, row in dictList[state].iterrows():\n",
    "        if row[5] > 0:\n",
    "            minList.append(row[1])\n",
    "    firstDeath = minList[0]\n",
    "    firstCaseDate = getFirstEvent(state)\n",
    "    # change the dates to datetime objects to be able to get difference between first death date and first case date\n",
    "    firstDeathDate = changeDate(firstDeath)\n",
    "    firstCaseDate = changeDate(firstCaseDate)\n",
    "    daysInBetween = firstDeathDate - firstCaseDate\n",
    "    daysInBetween = daysInBetween.days\n",
    "\n",
    "    return daysInBetween"
   ]
  },
  {
   "cell_type": "code",
   "execution_count": 148,
   "metadata": {},
   "outputs": [],
   "source": [
    "# This function returns the number of events for a particular date\n",
    "def eventsOnDate(state, date,event):\n",
    "    dictList[state].reset_index(inplace=True)\n",
    "    dictList[state].set_index('date',inplace=True)\n",
    "    if event == 'cases':\n",
    "        result = dictList[state].loc[date,'cases']\n",
    "    elif event == 'deaths':\n",
    "        result = dictList[state].loc[date,'deaths']\n",
    "    return result"
   ]
  },
  {
   "cell_type": "code",
   "execution_count": 149,
   "metadata": {},
   "outputs": [],
   "source": [
    "# This function returns the total number of events between two dates\n",
    "def casesBetweenDates(state,firstDate,secondDate):\n",
    "    firstResults = eventsOnDate(state, firstDate,'cases')\n",
    "    secondResults = eventsOnDate(state, secondDate,'cases')\n",
    "    firstResults = int(firstResults)\n",
    "    secondResults = int(secondResults)\n",
    "    difference = secondResults - firstResults\n",
    "    return difference"
   ]
  },
  {
   "cell_type": "code",
   "execution_count": 150,
   "metadata": {},
   "outputs": [],
   "source": [
    "# This function returns the previous date \n",
    "def previousDate(date):\n",
    "    date = changeDate(date)\n",
    "    dateBefore = date - timedelta(days=1)\n",
    "    return dateBefore"
   ]
  },
  {
   "cell_type": "code",
   "execution_count": 151,
   "metadata": {},
   "outputs": [],
   "source": [
    "# This function returns the population for the state\n",
    "def eventsPerCapita(name):\n",
    "    stateyDF = dictList[name]\n",
    "    population = popDF.loc[name,'population']\n",
    "    lastIndex =  stateyDF.index[-1]\n",
    "    totalEvents = stateyDF.loc[lastIndex,'cases']\n",
    "    perHundred = population / 100000\n",
    "    difference = totalEvents/perHundred\n",
    "    return difference"
   ]
  },
  {
   "cell_type": "code",
   "execution_count": 152,
   "metadata": {},
   "outputs": [],
   "source": [
    "# \n",
    "def caseChanges(state):\n",
    "    \n",
    "    # make it easier to access\n",
    "    stateDF = dictList[state]\n",
    "    # Will be used for indexing\n",
    "    i = 1\n",
    "    \n",
    "    # this gets the population for the state\n",
    "    population = popDF.loc[state,'population']\n",
    "    \n",
    "    # To find the cases per Capita we need to divide the population by 100K\n",
    "    perHundred = population/100000\n",
    "    \n",
    "    # This resets the index\n",
    "    stateDF.reset_index(inplace=True)\n",
    "    \n",
    "    # This finds the last index number for the state DF\n",
    "    otherLastIndex = stateDF.index[-1]\n",
    "    \n",
    "    for item in range(otherLastIndex,0,-1):\n",
    "        \n",
    "        # The last index\n",
    "        lastIndex = stateDF.index[-i]\n",
    "        \n",
    "        # Date that corresponds to the last index\n",
    "        lastDate = stateDF.loc[lastIndex,'date']\n",
    "        \n",
    "        # Number of cases that correspond to the last date\n",
    "        lastDateCases = stateDF.loc[lastIndex,'cases']\n",
    "        \n",
    "        # Cases per capita for last date\n",
    "        lastDatePerCapita = lastDateCases/perHundred\n",
    "        \n",
    "        # Date for the day before\n",
    "        dayBefore = stateDF.loc[lastIndex-1,'date']\n",
    "        \n",
    "         # The cases for the day before the last index\n",
    "        previousDayCases = stateDF.loc[(lastIndex-1),'cases']\n",
    "        \n",
    "        # Previous day cases per capita\n",
    "        previousDayPerCapita = previousDayCases/perHundred\n",
    "        \n",
    "        # Change between the previous day cases and the last date cases\n",
    "        difference = lastDateCases - previousDayCases       \n",
    "        \n",
    "        # Add to the list that will be transformed into a new DataFrame\n",
    "        casesList[state].append([lastDate,lastDateCases,lastDatePerCapita,difference])\n",
    "        #casesList[state].append(dayBefore)\n",
    "        i+=1\n",
    "    casesList[state].reverse()\n",
    "    return difference"
   ]
  },
  {
   "cell_type": "code",
   "execution_count": 153,
   "metadata": {},
   "outputs": [],
   "source": [
    "for name in states:\n",
    "    caseChanges(name)"
   ]
  },
  {
   "cell_type": "code",
   "execution_count": 154,
   "metadata": {},
   "outputs": [],
   "source": [
    "# This creates the states DataFrames using the following column names: 'Date','Total Cases','per Capita', 'Daily Change'\n",
    "for stateName in states:\n",
    "    stateDataFrame[stateName]=pd.DataFrame(casesList[stateName],columns=['Date','Total Cases','per Capita','Daily Change'])"
   ]
  },
  {
   "cell_type": "markdown",
   "metadata": {},
   "source": [
    "stateDataF['Texas']"
   ]
  },
  {
   "cell_type": "code",
   "execution_count": 155,
   "metadata": {},
   "outputs": [],
   "source": [
    "def findCasesTotal(state,number):\n",
    "    pass"
   ]
  },
  {
   "cell_type": "code",
   "execution_count": 156,
   "metadata": {},
   "outputs": [],
   "source": [
    "# This function finds the sum of the new cases for the specified days for the specified state\n",
    "# Ex. If you want to find out the new cases in the last 5 days for California\n",
    "# you can do so as: print(lastCoupleDays(\"California\",5))\n",
    "def lastCoupleDays(state, days):\n",
    "    daysList = []\n",
    "    daysDF = stateDataF[state]\n",
    "    i = 1\n",
    "    lastIndex = daysDF.index[-1]\n",
    "    totalDays = lastIndex - days\n",
    "    for numba in range(lastIndex,totalDays,-1):\n",
    "        findIndex = daysDF.index[-i]\n",
    "        allCases = daysDF.loc[findIndex,'Daily Change']\n",
    "        daysList.append(allCases)\n",
    "        i+=1\n",
    "    totalNumber = sum(daysList)\n",
    "    return totalNumber"
   ]
  },
  {
   "cell_type": "code",
   "execution_count": 157,
   "metadata": {},
   "outputs": [],
   "source": [
    "def totalCasesUS():\n",
    "    totalCasesList =  []\n",
    "    for aState in states:\n",
    "        lastIndex = stateDataFrame[aState].index[-1]\n",
    "        totalCases = stateDataFrame[aState].loc[lastIndex, 'Total Cases']\n",
    "        totalCasesList.append(totalCases)\n",
    "    total = sum(totalCasesList)\n",
    "    return total\n",
    "    "
   ]
  },
  {
   "cell_type": "code",
   "execution_count": 158,
   "metadata": {},
   "outputs": [],
   "source": [
    "totalCasesPerState = []"
   ]
  },
  {
   "cell_type": "code",
   "execution_count": 159,
   "metadata": {},
   "outputs": [],
   "source": [
    "for anotherState in states:\n",
    "    lastIndex = stateDataFrame[anotherState].index[-1]\n",
    "    totalCases = stateDataFrame[anotherState].loc[lastIndex,'Total Cases']\n",
    "    totalCasesPerState.append(anotherState)\n",
    "    totalCasesPerState.append(totalCases)"
   ]
  },
  {
   "cell_type": "code",
   "execution_count": 160,
   "metadata": {},
   "outputs": [
    {
     "data": {
      "text/plain": [
       "<matplotlib.axes._subplots.AxesSubplot at 0x1b852df6d30>"
      ]
     },
     "execution_count": 160,
     "metadata": {},
     "output_type": "execute_result"
    },
    {
     "data": {
      "image/png": "[encoded data removed]",
      "text/plain": [
       "<Figure size 432x288 with 1 Axes>"
      ]
     },
     "metadata": {
      "needs_background": "light"
     },
     "output_type": "display_data"
    }
   ],
   "source": [
    "stateDataFrame['New Hampshire'].plot(x='Date', y='Total Cases', kind='line')"
   ]
  },
  {
   "cell_type": "code",
   "execution_count": 161,
   "metadata": {},
   "outputs": [
    {
     "data": {
      "text/plain": [
       "<matplotlib.axes._subplots.AxesSubplot at 0x1b852e45ac0>"
      ]
     },
     "execution_count": 161,
     "metadata": {},
     "output_type": "execute_result"
    },
    {
     "data": {
      "image/png": "[encoded data removed]",
      "text/plain": [
       "<Figure size 432x288 with 1 Axes>"
      ]
     },
     "metadata": {
      "needs_background": "light"
     },
     "output_type": "display_data"
    }
   ],
   "source": [
    "stateDataFrame['New Hampshire'].plot(x='Date', y='Daily Change', kind='line')"
   ]
  },
  {
   "cell_type": "code",
   "execution_count": null,
   "metadata": {},
   "outputs": [],
   "source": []
  },
  {
   "cell_type": "code",
   "execution_count": null,
   "metadata": {},
   "outputs": [],
   "source": []
  },
  {
   "cell_type": "code",
   "execution_count": null,
   "metadata": {},
   "outputs": [],
   "source": []
  },
  {
   "cell_type": "code",
   "execution_count": null,
   "metadata": {},
   "outputs": [],
   "source": []
  },
  {
   "cell_type": "code",
   "execution_count": null,
   "metadata": {},
   "outputs": [],
   "source": []
  }
 ],
 "metadata": {
  "kernelspec": {
   "display_name": "Python 3",
   "language": "python",
   "name": "python3"
  },
  "language_info": {
   "codemirror_mode": {
    "name": "ipython",
    "version": 3
   },
   "file_extension": ".py",
   "mimetype": "text/x-python",
   "name": "python",
   "nbconvert_exporter": "python",
   "pygments_lexer": "ipython3",
   "version": "3.8.3"
  }
 },
 "nbformat": 4,
 "nbformat_minor": 2
}
