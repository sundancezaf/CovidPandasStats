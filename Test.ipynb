{
 "cells": [
  {
   "cell_type": "code",
   "execution_count": 75,
   "metadata": {},
   "outputs": [],
   "source": [
    "import pandas as pd"
   ]
  },
  {
   "cell_type": "code",
   "execution_count": 76,
   "metadata": {},
   "outputs": [],
   "source": [
    "from datetime import *"
   ]
  },
  {
   "cell_type": "code",
   "execution_count": 77,
   "metadata": {},
   "outputs": [],
   "source": [
    "df = pd.read_csv('us-states.csv')"
   ]
  },
  {
   "cell_type": "code",
   "execution_count": 78,
   "metadata": {},
   "outputs": [],
   "source": [
    "states = ['Alabama', 'Alaska', 'Arizona', 'Arkansas', 'California', 'Colorado', 'Connecticut', 'Delaware', 'District of Columbia', 'Florida', 'Georgia', 'Hawaii', 'Idaho', 'Illinois', 'Indiana', 'Iowa', 'Kansas', 'Kentucky', 'Louisiana', 'Maine', 'Maryland', 'Massachusetts', 'Michigan', 'Minnesota', 'Mississippi', 'Missouri', 'Montana', 'Nebraska', 'Nevada', 'New Hampshire', 'New Jersey', 'New Mexico', 'New York', 'North Carolina', 'North Dakota', 'Ohio', 'Oklahoma', 'Oregon', 'Pennsylvania', 'Rhode Island', 'South Carolina', 'South Dakota', 'Tennessee', 'Texas', 'Utah', 'Vermont', 'Virginia', 'Washington', 'West Virginia', 'Wisconsin', 'Wyoming']"
   ]
  },
  {
   "cell_type": "code",
   "execution_count": 79,
   "metadata": {},
   "outputs": [],
   "source": [
    "dictList = {key:{} for key in states}"
   ]
  },
  {
   "cell_type": "code",
   "execution_count": 80,
   "metadata": {},
   "outputs": [],
   "source": [
    "for state in states:\n",
    "    stateFilter = (df['state']==state)\n",
    "    dictList[state]= df[stateFilter]\n",
    "    dictList[state].reset_index(inplace=True)"
   ]
  },
  {
   "cell_type": "code",
   "execution_count": 81,
   "metadata": {},
   "outputs": [],
   "source": [
    "def changeDate(aDate):\n",
    "    aDate = datetime.strptime(aDate, '%Y-%m-%d')\n",
    "    finalDate = aDate.date()\n",
    "    return finalDate"
   ]
  },
  {
   "cell_type": "code",
   "execution_count": 82,
   "metadata": {},
   "outputs": [],
   "source": [
    "def getFirstEvent(name):\n",
    "    result = dictList[name].loc[0, 'date']\n",
    "    return result"
   ]
  },
  {
   "cell_type": "code",
   "execution_count": 83,
   "metadata": {},
   "outputs": [],
   "source": [
    "# This function returns the number of days between the first case and the first death\n",
    "def caseToDeath(state):\n",
    "    minList = []\n",
    "    # We want to find the date of the first death so it has to be greater than 0, if we append it to a list,\n",
    "    # then we can get the first value and that will be the date of the first death\n",
    "    for ind, row in dictList[state].iterrows():\n",
    "        if row[5] > 0:\n",
    "            minList.append(row[1])\n",
    "    firstDeath = minList[0]\n",
    "    firstCaseDate = getFirstEvent(state)\n",
    "    # change the dates to datetime objects to be able to get difference between first death date and first case date\n",
    "    firstDeathDate = changeDate(firstDeath)\n",
    "    firstCaseDate = changeDate(firstCaseDate)\n",
    "    daysInBetween = firstDeathDate - firstCaseDate\n",
    "    daysInBetween = daysInBetween.days\n",
    "\n",
    "    return daysInBetween"
   ]
  },
  {
   "cell_type": "code",
   "execution_count": 84,
   "metadata": {},
   "outputs": [],
   "source": [
    "def eventsOnDate(state, date,event):\n",
    "    dictList[state].reset_index(inplace=True)\n",
    "    dictList[state].set_index('date',inplace=True)\n",
    "    if event == 'cases':\n",
    "        result = dictList[state].loc[date,'cases']\n",
    "    elif event == 'deaths':\n",
    "        result = dictList[state].loc[date,'deaths']\n",
    "    return result"
   ]
  },
  {
   "cell_type": "code",
   "execution_count": 85,
   "metadata": {},
   "outputs": [
    {
     "name": "stdout",
     "output_type": "stream",
     "text": [
      "45\n"
     ]
    }
   ],
   "source": [
    "print(eventsOnDate(\"Iowa\",\"2020-03-20\",\"cases\"))"
   ]
  },
  {
   "cell_type": "code",
   "execution_count": 86,
   "metadata": {},
   "outputs": [],
   "source": [
    "def casesBetweenDates(state,firstDate,secondDate):\n",
    "    firstResults = eventsOnDate(state, firstDate,'cases')\n",
    "    secondResults = eventsOnDate(state, secondDate,'cases')\n",
    "    firstResults = int(firstResults)\n",
    "    secondResults = int(secondResults)\n",
    "    difference = secondResults - firstResults\n",
    "    return difference"
   ]
  },
  {
   "cell_type": "code",
   "execution_count": 87,
   "metadata": {},
   "outputs": [
    {
     "name": "stdout",
     "output_type": "stream",
     "text": [
      "23\n"
     ]
    }
   ],
   "source": [
    "print(casesBetweenDates('Iowa','2020-03-20','2020-03-21'))"
   ]
  },
  {
   "cell_type": "code",
   "execution_count": 88,
   "metadata": {},
   "outputs": [],
   "source": [
    "lastInd = dictList['Arkansas'].index[-1]"
   ]
  },
  {
   "cell_type": "code",
   "execution_count": 89,
   "metadata": {},
   "outputs": [
    {
     "name": "stdout",
     "output_type": "stream",
     "text": [
      "69\n"
     ]
    }
   ],
   "source": [
    "print(lastInd)"
   ]
  },
  {
   "cell_type": "code",
   "execution_count": 90,
   "metadata": {},
   "outputs": [],
   "source": [
    "df_Ark = dictList['Arkansas']"
   ]
  },
  {
   "cell_type": "code",
   "execution_count": 91,
   "metadata": {},
   "outputs": [
    {
     "data": {
      "text/plain": [
       "'2020-05-19'"
      ]
     },
     "execution_count": 91,
     "metadata": {},
     "output_type": "execute_result"
    }
   ],
   "source": [
    "df_Ark.loc[lastInd,'date']"
   ]
  },
  {
   "cell_type": "code",
   "execution_count": 92,
   "metadata": {},
   "outputs": [],
   "source": [
    "finalD = df_Ark.loc[lastInd,'date']"
   ]
  },
  {
   "cell_type": "code",
   "execution_count": 93,
   "metadata": {},
   "outputs": [
    {
     "name": "stdout",
     "output_type": "stream",
     "text": [
      "<type 'str'>\n"
     ]
    }
   ],
   "source": [
    "print(type(finalD))"
   ]
  },
  {
   "cell_type": "code",
   "execution_count": 94,
   "metadata": {},
   "outputs": [],
   "source": [
    "def previousDate(date):\n",
    "    date = changeDate(date)\n",
    "    dateBefore = date - timedelta(days=1)\n",
    "    return dateBefore"
   ]
  },
  {
   "cell_type": "code",
   "execution_count": 95,
   "metadata": {},
   "outputs": [
    {
     "name": "stdout",
     "output_type": "stream",
     "text": [
      "2020-05-18\n"
     ]
    }
   ],
   "source": [
    "print(previousDate(finalD))"
   ]
  },
  {
   "cell_type": "code",
   "execution_count": 104,
   "metadata": {},
   "outputs": [],
   "source": [
    "def caseChanges(state):\n",
    "    stateDF = dictList[state]\n",
    "    lastIndex = stateDF.index[-1]\n",
    "    lastDate = stateDF.loc[lastIndex,'date']\n",
    "    dayBefore = previousDate(lastDate)\n",
    "    dayBefore = str(previousDate)\n",
    "    typo = type(dayBefore)\n",
    "    \n",
    "    #dayBefore = str(previousDate)\n",
    "    lastDateCases = stateDF.loc[lastIndex,'cases']\n",
    "    return typo"
   ]
  },
  {
   "cell_type": "code",
   "execution_count": 105,
   "metadata": {},
   "outputs": [
    {
     "name": "stdout",
     "output_type": "stream",
     "text": [
      "<type 'str'>\n"
     ]
    }
   ],
   "source": [
    "print(caseChanges('Montana'))"
   ]
  },
  {
   "cell_type": "code",
   "execution_count": null,
   "metadata": {},
   "outputs": [],
   "source": []
  },
  {
   "cell_type": "code",
   "execution_count": 99,
   "metadata": {},
   "outputs": [
    {
     "name": "stdout",
     "output_type": "stream",
     "text": [
      "2020-03-28\n"
     ]
    }
   ],
   "source": [
    "print(previousDate('2020-03-29'))"
   ]
  },
  {
   "cell_type": "code",
   "execution_count": null,
   "metadata": {},
   "outputs": [],
   "source": []
  }
 ],
 "metadata": {
  "kernelspec": {
   "display_name": "Python 2",
   "language": "python",
   "name": "python2"
  },
  "language_info": {
   "codemirror_mode": {
    "name": "ipython",
    "version": 2
   },
   "file_extension": ".py",
   "mimetype": "text/x-python",
   "name": "python",
   "nbconvert_exporter": "python",
   "pygments_lexer": "ipython2",
   "version": "2.7.16"
  }
 },
 "nbformat": 4,
 "nbformat_minor": 2
}
